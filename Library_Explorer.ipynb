{
  "nbformat": 4,
  "nbformat_minor": 0,
  "metadata": {
    "colab": {
      "provenance": [],
      "authorship_tag": "ABX9TyMaJAMzIIiBdHn1ykjwbI6U",
      "include_colab_link": true
    },
    "kernelspec": {
      "name": "python3",
      "display_name": "Python 3"
    },
    "language_info": {
      "name": "python"
    }
  },
  "cells": [
    {
      "cell_type": "markdown",
      "metadata": {
        "id": "view-in-github",
        "colab_type": "text"
      },
      "source": [
        "<a href=\"https://colab.research.google.com/github/DeepHMS/Library-Explorer/blob/main/Library_Explorer.ipynb\" target=\"_parent\"><img src=\"https://colab.research.google.com/assets/colab-badge.svg\" alt=\"Open In Colab\"/></a>"
      ]
    },
    {
      "cell_type": "markdown",
      "source": [
        "In the current landscape of DIA-based proteomics, a high-quality library is essential, whether sourced externally or generated internally through library-free methods. However, these libraries are often vast and challenging to manage or inspect in a spreadsheet due to their size. To address this, we introduce Library Explorer, a tool that enables visualization, exploration, and detailed searching within libraries, allowing users to:\n",
        "\n",
        "*   Search for specific proteins or peptides (including partial string matches).\n",
        "*   Extract peptides associated with a particular protein.\n",
        "*   Generate protein-specific libraries from the main library to develop targeted methods or assess protein coverage."
      ],
      "metadata": {
        "id": "_HGyjbNcjFd8"
      }
    },
    {
      "cell_type": "code",
      "execution_count": null,
      "metadata": {
        "colab": {
          "base_uri": "https://localhost:8080/"
        },
        "id": "QPT3_3XD53Fe",
        "outputId": "2feb02dc-e3e9-4ca8-a665-37646ed85e4e"
      },
      "outputs": [
        {
          "output_type": "stream",
          "name": "stdout",
          "text": [
            "Mounted at /content/drive\n"
          ]
        }
      ],
      "source": [
        "from google.colab import drive\n",
        "import os\n",
        "import requests\n",
        "import re\n",
        "import numpy as np\n",
        "import pandas as pd\n",
        "import matplotlib.pyplot as plt\n",
        "from matplotlib.colors import ListedColormap\n",
        "import matplotlib.patches as patches\n",
        "import seaborn as sns\n",
        "\n",
        "# Step 1: Mount Google Drive\n",
        "drive.mount('/content/drive')"
      ]
    },
    {
      "cell_type": "code",
      "source": [
        "# Step 2: Load the Library files\n",
        "library = pd.read_csv(\"/content/drive/MyDrive/1.Spectral_Library_Merging/03152025_Tryptic_Output_Library_Library.tsv\", sep='\\t')\n",
        "print(library.columns.tolist())\n",
        "\n",
        "library.head()"
      ],
      "metadata": {
        "id": "pEaSWM8b6Pv9",
        "colab": {
          "base_uri": "https://localhost:8080/",
          "height": 245
        },
        "outputId": "700e640c-3c55-4ddb-90a2-96feb26747d4"
      },
      "execution_count": null,
      "outputs": [
        {
          "output_type": "stream",
          "name": "stdout",
          "text": [
            "['PrecursorMz', 'ProductMz', 'Annotation', 'ProteinId', 'GeneName', 'PeptideSequence', 'ModifiedPeptideSequence', 'PrecursorCharge', 'LibraryIntensity', 'NormalizedRetentionTime', 'PrecursorIonMobility', 'FragmentType', 'FragmentCharge', 'FragmentSeriesNumber', 'FragmentLossType', 'AverageExperimentalRetentionTime', 'AllMappedProteins', 'AllMappedGenes', 'Proteotypic']\n"
          ]
        },
        {
          "output_type": "execute_result",
          "data": {
            "text/plain": [
              "   PrecursorMz   ProductMz Annotation ProteinId GeneName PeptideSequence  \\\n",
              "0   232.150142  175.118953       y1^1    Q04837    SSBP1          VHLLGR   \n",
              "1   232.150142  232.140417       y2^1    Q04837    SSBP1          VHLLGR   \n",
              "2   232.150142  237.134603       b2^1    Q04837    SSBP1          VHLLGR   \n",
              "3   232.150142  298.187367       y5^2    Q04837    SSBP1          VHLLGR   \n",
              "4   232.150142  345.224481       y3^1    Q04837    SSBP1          VHLLGR   \n",
              "\n",
              "  ModifiedPeptideSequence  PrecursorCharge  LibraryIntensity  \\\n",
              "0                  VHLLGR                3         1199.5968   \n",
              "1                  VHLLGR                3         5952.0160   \n",
              "2                  VHLLGR                3         8896.4050   \n",
              "3                  VHLLGR                3         1320.5645   \n",
              "4                  VHLLGR                3         6752.7173   \n",
              "\n",
              "   NormalizedRetentionTime  PrecursorIonMobility FragmentType  FragmentCharge  \\\n",
              "0               -20.136566                0.6376            y               1   \n",
              "1               -20.136566                0.6376            y               1   \n",
              "2               -20.136566                0.6376            b               1   \n",
              "3               -20.136566                0.6376            y               2   \n",
              "4               -20.136566                0.6376            y               1   \n",
              "\n",
              "   FragmentSeriesNumber  FragmentLossType  AverageExperimentalRetentionTime  \\\n",
              "0                     1               NaN                        758.245303   \n",
              "1                     2               NaN                        758.245303   \n",
              "2                     2               NaN                        758.245303   \n",
              "3                     5               NaN                        758.245303   \n",
              "4                     3               NaN                        758.245303   \n",
              "\n",
              "      AllMappedProteins AllMappedGenes  Proteotypic  \n",
              "0  sp|Q04837|SSBP_HUMAN          SSBP1            1  \n",
              "1  sp|Q04837|SSBP_HUMAN          SSBP1            1  \n",
              "2  sp|Q04837|SSBP_HUMAN          SSBP1            1  \n",
              "3  sp|Q04837|SSBP_HUMAN          SSBP1            1  \n",
              "4  sp|Q04837|SSBP_HUMAN          SSBP1            1  "
            ],
            "text/html": [
              "\n",
              "  <div id=\"df-794c079b-ac17-4612-908a-6879080ae988\" class=\"colab-df-container\">\n",
              "    <div>\n",
              "<style scoped>\n",
              "    .dataframe tbody tr th:only-of-type {\n",
              "        vertical-align: middle;\n",
              "    }\n",
              "\n",
              "    .dataframe tbody tr th {\n",
              "        vertical-align: top;\n",
              "    }\n",
              "\n",
              "    .dataframe thead th {\n",
              "        text-align: right;\n",
              "    }\n",
              "</style>\n",
              "<table border=\"1\" class=\"dataframe\">\n",
              "  <thead>\n",
              "    <tr style=\"text-align: right;\">\n",
              "      <th></th>\n",
              "      <th>PrecursorMz</th>\n",
              "      <th>ProductMz</th>\n",
              "      <th>Annotation</th>\n",
              "      <th>ProteinId</th>\n",
              "      <th>GeneName</th>\n",
              "      <th>PeptideSequence</th>\n",
              "      <th>ModifiedPeptideSequence</th>\n",
              "      <th>PrecursorCharge</th>\n",
              "      <th>LibraryIntensity</th>\n",
              "      <th>NormalizedRetentionTime</th>\n",
              "      <th>PrecursorIonMobility</th>\n",
              "      <th>FragmentType</th>\n",
              "      <th>FragmentCharge</th>\n",
              "      <th>FragmentSeriesNumber</th>\n",
              "      <th>FragmentLossType</th>\n",
              "      <th>AverageExperimentalRetentionTime</th>\n",
              "      <th>AllMappedProteins</th>\n",
              "      <th>AllMappedGenes</th>\n",
              "      <th>Proteotypic</th>\n",
              "    </tr>\n",
              "  </thead>\n",
              "  <tbody>\n",
              "    <tr>\n",
              "      <th>0</th>\n",
              "      <td>232.150142</td>\n",
              "      <td>175.118953</td>\n",
              "      <td>y1^1</td>\n",
              "      <td>Q04837</td>\n",
              "      <td>SSBP1</td>\n",
              "      <td>VHLLGR</td>\n",
              "      <td>VHLLGR</td>\n",
              "      <td>3</td>\n",
              "      <td>1199.5968</td>\n",
              "      <td>-20.136566</td>\n",
              "      <td>0.6376</td>\n",
              "      <td>y</td>\n",
              "      <td>1</td>\n",
              "      <td>1</td>\n",
              "      <td>NaN</td>\n",
              "      <td>758.245303</td>\n",
              "      <td>sp|Q04837|SSBP_HUMAN</td>\n",
              "      <td>SSBP1</td>\n",
              "      <td>1</td>\n",
              "    </tr>\n",
              "    <tr>\n",
              "      <th>1</th>\n",
              "      <td>232.150142</td>\n",
              "      <td>232.140417</td>\n",
              "      <td>y2^1</td>\n",
              "      <td>Q04837</td>\n",
              "      <td>SSBP1</td>\n",
              "      <td>VHLLGR</td>\n",
              "      <td>VHLLGR</td>\n",
              "      <td>3</td>\n",
              "      <td>5952.0160</td>\n",
              "      <td>-20.136566</td>\n",
              "      <td>0.6376</td>\n",
              "      <td>y</td>\n",
              "      <td>1</td>\n",
              "      <td>2</td>\n",
              "      <td>NaN</td>\n",
              "      <td>758.245303</td>\n",
              "      <td>sp|Q04837|SSBP_HUMAN</td>\n",
              "      <td>SSBP1</td>\n",
              "      <td>1</td>\n",
              "    </tr>\n",
              "    <tr>\n",
              "      <th>2</th>\n",
              "      <td>232.150142</td>\n",
              "      <td>237.134603</td>\n",
              "      <td>b2^1</td>\n",
              "      <td>Q04837</td>\n",
              "      <td>SSBP1</td>\n",
              "      <td>VHLLGR</td>\n",
              "      <td>VHLLGR</td>\n",
              "      <td>3</td>\n",
              "      <td>8896.4050</td>\n",
              "      <td>-20.136566</td>\n",
              "      <td>0.6376</td>\n",
              "      <td>b</td>\n",
              "      <td>1</td>\n",
              "      <td>2</td>\n",
              "      <td>NaN</td>\n",
              "      <td>758.245303</td>\n",
              "      <td>sp|Q04837|SSBP_HUMAN</td>\n",
              "      <td>SSBP1</td>\n",
              "      <td>1</td>\n",
              "    </tr>\n",
              "    <tr>\n",
              "      <th>3</th>\n",
              "      <td>232.150142</td>\n",
              "      <td>298.187367</td>\n",
              "      <td>y5^2</td>\n",
              "      <td>Q04837</td>\n",
              "      <td>SSBP1</td>\n",
              "      <td>VHLLGR</td>\n",
              "      <td>VHLLGR</td>\n",
              "      <td>3</td>\n",
              "      <td>1320.5645</td>\n",
              "      <td>-20.136566</td>\n",
              "      <td>0.6376</td>\n",
              "      <td>y</td>\n",
              "      <td>2</td>\n",
              "      <td>5</td>\n",
              "      <td>NaN</td>\n",
              "      <td>758.245303</td>\n",
              "      <td>sp|Q04837|SSBP_HUMAN</td>\n",
              "      <td>SSBP1</td>\n",
              "      <td>1</td>\n",
              "    </tr>\n",
              "    <tr>\n",
              "      <th>4</th>\n",
              "      <td>232.150142</td>\n",
              "      <td>345.224481</td>\n",
              "      <td>y3^1</td>\n",
              "      <td>Q04837</td>\n",
              "      <td>SSBP1</td>\n",
              "      <td>VHLLGR</td>\n",
              "      <td>VHLLGR</td>\n",
              "      <td>3</td>\n",
              "      <td>6752.7173</td>\n",
              "      <td>-20.136566</td>\n",
              "      <td>0.6376</td>\n",
              "      <td>y</td>\n",
              "      <td>1</td>\n",
              "      <td>3</td>\n",
              "      <td>NaN</td>\n",
              "      <td>758.245303</td>\n",
              "      <td>sp|Q04837|SSBP_HUMAN</td>\n",
              "      <td>SSBP1</td>\n",
              "      <td>1</td>\n",
              "    </tr>\n",
              "  </tbody>\n",
              "</table>\n",
              "</div>\n",
              "    <div class=\"colab-df-buttons\">\n",
              "\n",
              "  <div class=\"colab-df-container\">\n",
              "    <button class=\"colab-df-convert\" onclick=\"convertToInteractive('df-794c079b-ac17-4612-908a-6879080ae988')\"\n",
              "            title=\"Convert this dataframe to an interactive table.\"\n",
              "            style=\"display:none;\">\n",
              "\n",
              "  <svg xmlns=\"http://www.w3.org/2000/svg\" height=\"24px\" viewBox=\"0 -960 960 960\">\n",
              "    <path d=\"M120-120v-720h720v720H120Zm60-500h600v-160H180v160Zm220 220h160v-160H400v160Zm0 220h160v-160H400v160ZM180-400h160v-160H180v160Zm440 0h160v-160H620v160ZM180-180h160v-160H180v160Zm440 0h160v-160H620v160Z\"/>\n",
              "  </svg>\n",
              "    </button>\n",
              "\n",
              "  <style>\n",
              "    .colab-df-container {\n",
              "      display:flex;\n",
              "      gap: 12px;\n",
              "    }\n",
              "\n",
              "    .colab-df-convert {\n",
              "      background-color: #E8F0FE;\n",
              "      border: none;\n",
              "      border-radius: 50%;\n",
              "      cursor: pointer;\n",
              "      display: none;\n",
              "      fill: #1967D2;\n",
              "      height: 32px;\n",
              "      padding: 0 0 0 0;\n",
              "      width: 32px;\n",
              "    }\n",
              "\n",
              "    .colab-df-convert:hover {\n",
              "      background-color: #E2EBFA;\n",
              "      box-shadow: 0px 1px 2px rgba(60, 64, 67, 0.3), 0px 1px 3px 1px rgba(60, 64, 67, 0.15);\n",
              "      fill: #174EA6;\n",
              "    }\n",
              "\n",
              "    .colab-df-buttons div {\n",
              "      margin-bottom: 4px;\n",
              "    }\n",
              "\n",
              "    [theme=dark] .colab-df-convert {\n",
              "      background-color: #3B4455;\n",
              "      fill: #D2E3FC;\n",
              "    }\n",
              "\n",
              "    [theme=dark] .colab-df-convert:hover {\n",
              "      background-color: #434B5C;\n",
              "      box-shadow: 0px 1px 3px 1px rgba(0, 0, 0, 0.15);\n",
              "      filter: drop-shadow(0px 1px 2px rgba(0, 0, 0, 0.3));\n",
              "      fill: #FFFFFF;\n",
              "    }\n",
              "  </style>\n",
              "\n",
              "    <script>\n",
              "      const buttonEl =\n",
              "        document.querySelector('#df-794c079b-ac17-4612-908a-6879080ae988 button.colab-df-convert');\n",
              "      buttonEl.style.display =\n",
              "        google.colab.kernel.accessAllowed ? 'block' : 'none';\n",
              "\n",
              "      async function convertToInteractive(key) {\n",
              "        const element = document.querySelector('#df-794c079b-ac17-4612-908a-6879080ae988');\n",
              "        const dataTable =\n",
              "          await google.colab.kernel.invokeFunction('convertToInteractive',\n",
              "                                                    [key], {});\n",
              "        if (!dataTable) return;\n",
              "\n",
              "        const docLinkHtml = 'Like what you see? Visit the ' +\n",
              "          '<a target=\"_blank\" href=https://colab.research.google.com/notebooks/data_table.ipynb>data table notebook</a>'\n",
              "          + ' to learn more about interactive tables.';\n",
              "        element.innerHTML = '';\n",
              "        dataTable['output_type'] = 'display_data';\n",
              "        await google.colab.output.renderOutput(dataTable, element);\n",
              "        const docLink = document.createElement('div');\n",
              "        docLink.innerHTML = docLinkHtml;\n",
              "        element.appendChild(docLink);\n",
              "      }\n",
              "    </script>\n",
              "  </div>\n",
              "\n",
              "\n",
              "    <div id=\"df-42b681d9-8fbd-4f33-ad85-cb5dec1459ec\">\n",
              "      <button class=\"colab-df-quickchart\" onclick=\"quickchart('df-42b681d9-8fbd-4f33-ad85-cb5dec1459ec')\"\n",
              "                title=\"Suggest charts\"\n",
              "                style=\"display:none;\">\n",
              "\n",
              "<svg xmlns=\"http://www.w3.org/2000/svg\" height=\"24px\"viewBox=\"0 0 24 24\"\n",
              "     width=\"24px\">\n",
              "    <g>\n",
              "        <path d=\"M19 3H5c-1.1 0-2 .9-2 2v14c0 1.1.9 2 2 2h14c1.1 0 2-.9 2-2V5c0-1.1-.9-2-2-2zM9 17H7v-7h2v7zm4 0h-2V7h2v10zm4 0h-2v-4h2v4z\"/>\n",
              "    </g>\n",
              "</svg>\n",
              "      </button>\n",
              "\n",
              "<style>\n",
              "  .colab-df-quickchart {\n",
              "      --bg-color: #E8F0FE;\n",
              "      --fill-color: #1967D2;\n",
              "      --hover-bg-color: #E2EBFA;\n",
              "      --hover-fill-color: #174EA6;\n",
              "      --disabled-fill-color: #AAA;\n",
              "      --disabled-bg-color: #DDD;\n",
              "  }\n",
              "\n",
              "  [theme=dark] .colab-df-quickchart {\n",
              "      --bg-color: #3B4455;\n",
              "      --fill-color: #D2E3FC;\n",
              "      --hover-bg-color: #434B5C;\n",
              "      --hover-fill-color: #FFFFFF;\n",
              "      --disabled-bg-color: #3B4455;\n",
              "      --disabled-fill-color: #666;\n",
              "  }\n",
              "\n",
              "  .colab-df-quickchart {\n",
              "    background-color: var(--bg-color);\n",
              "    border: none;\n",
              "    border-radius: 50%;\n",
              "    cursor: pointer;\n",
              "    display: none;\n",
              "    fill: var(--fill-color);\n",
              "    height: 32px;\n",
              "    padding: 0;\n",
              "    width: 32px;\n",
              "  }\n",
              "\n",
              "  .colab-df-quickchart:hover {\n",
              "    background-color: var(--hover-bg-color);\n",
              "    box-shadow: 0 1px 2px rgba(60, 64, 67, 0.3), 0 1px 3px 1px rgba(60, 64, 67, 0.15);\n",
              "    fill: var(--button-hover-fill-color);\n",
              "  }\n",
              "\n",
              "  .colab-df-quickchart-complete:disabled,\n",
              "  .colab-df-quickchart-complete:disabled:hover {\n",
              "    background-color: var(--disabled-bg-color);\n",
              "    fill: var(--disabled-fill-color);\n",
              "    box-shadow: none;\n",
              "  }\n",
              "\n",
              "  .colab-df-spinner {\n",
              "    border: 2px solid var(--fill-color);\n",
              "    border-color: transparent;\n",
              "    border-bottom-color: var(--fill-color);\n",
              "    animation:\n",
              "      spin 1s steps(1) infinite;\n",
              "  }\n",
              "\n",
              "  @keyframes spin {\n",
              "    0% {\n",
              "      border-color: transparent;\n",
              "      border-bottom-color: var(--fill-color);\n",
              "      border-left-color: var(--fill-color);\n",
              "    }\n",
              "    20% {\n",
              "      border-color: transparent;\n",
              "      border-left-color: var(--fill-color);\n",
              "      border-top-color: var(--fill-color);\n",
              "    }\n",
              "    30% {\n",
              "      border-color: transparent;\n",
              "      border-left-color: var(--fill-color);\n",
              "      border-top-color: var(--fill-color);\n",
              "      border-right-color: var(--fill-color);\n",
              "    }\n",
              "    40% {\n",
              "      border-color: transparent;\n",
              "      border-right-color: var(--fill-color);\n",
              "      border-top-color: var(--fill-color);\n",
              "    }\n",
              "    60% {\n",
              "      border-color: transparent;\n",
              "      border-right-color: var(--fill-color);\n",
              "    }\n",
              "    80% {\n",
              "      border-color: transparent;\n",
              "      border-right-color: var(--fill-color);\n",
              "      border-bottom-color: var(--fill-color);\n",
              "    }\n",
              "    90% {\n",
              "      border-color: transparent;\n",
              "      border-bottom-color: var(--fill-color);\n",
              "    }\n",
              "  }\n",
              "</style>\n",
              "\n",
              "      <script>\n",
              "        async function quickchart(key) {\n",
              "          const quickchartButtonEl =\n",
              "            document.querySelector('#' + key + ' button');\n",
              "          quickchartButtonEl.disabled = true;  // To prevent multiple clicks.\n",
              "          quickchartButtonEl.classList.add('colab-df-spinner');\n",
              "          try {\n",
              "            const charts = await google.colab.kernel.invokeFunction(\n",
              "                'suggestCharts', [key], {});\n",
              "          } catch (error) {\n",
              "            console.error('Error during call to suggestCharts:', error);\n",
              "          }\n",
              "          quickchartButtonEl.classList.remove('colab-df-spinner');\n",
              "          quickchartButtonEl.classList.add('colab-df-quickchart-complete');\n",
              "        }\n",
              "        (() => {\n",
              "          let quickchartButtonEl =\n",
              "            document.querySelector('#df-42b681d9-8fbd-4f33-ad85-cb5dec1459ec button');\n",
              "          quickchartButtonEl.style.display =\n",
              "            google.colab.kernel.accessAllowed ? 'block' : 'none';\n",
              "        })();\n",
              "      </script>\n",
              "    </div>\n",
              "\n",
              "    </div>\n",
              "  </div>\n"
            ],
            "application/vnd.google.colaboratory.intrinsic+json": {
              "type": "dataframe",
              "variable_name": "library"
            }
          },
          "metadata": {},
          "execution_count": 2
        }
      ]
    },
    {
      "cell_type": "markdown",
      "source": [
        "## Library Stat Calculation"
      ],
      "metadata": {
        "id": "pqh8FJCFiZSo"
      }
    },
    {
      "cell_type": "code",
      "source": [
        "def create_unique_key(library):\n",
        "    # Define columns based on data type\n",
        "    object_cols = ['ProductMz', 'Annotation', 'ProteinId', 'GeneName', 'ModifiedPeptideSequence', 'PrecursorCharge']\n",
        "\n",
        "    # Fill missing values in the DataFrame\n",
        "    for col in object_cols:\n",
        "        if library[col].dtype == 'object':  # For string-type columns\n",
        "            library.loc[:, col] = library[col].fillna('missing')\n",
        "        else:  # For numeric columns, fill with a default number\n",
        "            library.loc[:, col] = library[col].fillna(-1)\n",
        "\n",
        "    # Create the unique key column\n",
        "    library['Merged'] = library['PrecursorMz'].astype(str) + \"_\" + \\\n",
        "                        library['ProductMz'].astype(str) + \"_\" + \\\n",
        "                        library['Annotation'].astype(str) + \"_\" + \\\n",
        "                        library['ProteinId'].astype(str) + \"_\" + \\\n",
        "                        library['GeneName'].astype(str) + \"_\" + \\\n",
        "                        library['ModifiedPeptideSequence'].astype(str) + \"_\" + \\\n",
        "                        library['PrecursorCharge'].astype(str)\n",
        "\n",
        "    # Return the number of unique keys\n",
        "    return library['Merged'].nunique()\n",
        "\n",
        "\n",
        "df = library.copy()\n",
        "number_of_unique_keys = create_unique_key(df)\n",
        "\n",
        "# Extract unique IDs from the 'ProteinId' column\n",
        "total_rows = library.shape[0]\n",
        "unique_ids = library['ProteinId'].dropna().unique()\n",
        "unique_peptide = library['PeptideSequence'].dropna().unique()\n",
        "mod_peptide = library['ModifiedPeptideSequence'].dropna().unique()\n",
        "norm_rt = library['NormalizedRetentionTime'].dropna().unique()\n",
        "ion_mob = library['PrecursorIonMobility'].dropna().unique()\n",
        "\n",
        "# Print the number of unique Protein IDs\n",
        "print(\"Total number of rows in the TSV file:\", total_rows)\n",
        "print(\"Number of unique keys:\", number_of_unique_keys)\n",
        "print(\"Number of unique Protein IDs:\", len(unique_ids))\n",
        "print(\"Number of unique Peptide:\", len(unique_peptide))\n",
        "print(\"Number of Modified Peptide:\", len(mod_peptide))\n",
        "print(\"Number of Normalized Retention Time:\", len(norm_rt))\n",
        "print(\"Number of Ion Mobility:\", len(ion_mob))\n",
        "print()\n",
        "print(\"Minimum Normalized Retention Time:\", min(norm_rt))\n",
        "print(\"Maximum Normalized Retention Time:\", max(norm_rt))\n",
        "print()\n",
        "print(\"Minimum Ion Mobility:\", min(ion_mob))\n",
        "print(\"Maximum Ion Mobility:\", max(ion_mob))"
      ],
      "metadata": {
        "colab": {
          "base_uri": "https://localhost:8080/"
        },
        "id": "wmyXDiyW6wzt",
        "outputId": "4dcb558f-8fac-4fc2-a0ee-6846b982b164"
      },
      "execution_count": null,
      "outputs": [
        {
          "output_type": "stream",
          "name": "stdout",
          "text": [
            "Total number of rows in the TSV file: 6184387\n",
            "Number of unique keys: 6184387\n",
            "Number of unique Protein IDs: 10357\n",
            "Number of unique Peptide: 164092\n",
            "Number of Modified Peptide: 192315\n",
            "Number of Normalized Retention Time: 201564\n",
            "Number of Ion Mobility: 249357\n",
            "\n",
            "Minimum Normalized Retention Time: -63.76360993168082\n",
            "Maximum Normalized Retention Time: 214.77078922336167\n",
            "\n",
            "Minimum Ion Mobility: 0.6204799187134791\n",
            "Maximum Ion Mobility: 1.600216628731371\n"
          ]
        }
      ]
    },
    {
      "cell_type": "markdown",
      "source": [
        "## Library Data Info Visualization"
      ],
      "metadata": {
        "id": "eZ8gikBYiRPv"
      }
    },
    {
      "cell_type": "code",
      "source": [
        "# Plotting the histogram\n",
        "plt.figure(figsize=(8, 4))\n",
        "plt.hist(df['NormalizedRetentionTime'], bins=50, color='skyblue', edgecolor='black')\n",
        "#sns.histplot(df['NormalizedRetentionTime'], bins=50, kde=True, color='skyblue', edgecolor='black') #with distribution curve (also known as a kernel density estimate, or KDE)\n",
        "plt.title('Normalized Retention Times')\n",
        "plt.xlabel('Normalized Retention Time')\n",
        "plt.ylabel('Frequency')\n",
        "plt.grid(False)\n",
        "plt.show()\n",
        "\n",
        "plt.figure(figsize=(8, 4))\n",
        "plt.hist(df['PrecursorIonMobility'], bins=50, color='orange', edgecolor='black')\n",
        "#sns.histplot(df['NormalizedRetentionTime'], bins=50, kde=True, color='skyblue', edgecolor='black') #with distribution curve (also known as a kernel density estimate, or KDE)\n",
        "plt.title('Ion Mobility')\n",
        "plt.xlabel('Ion Mobility')\n",
        "plt.ylabel('Frequency')\n",
        "plt.grid(False)\n",
        "plt.show()\n",
        "\n",
        "# Sample data, replace these with your actual values\n",
        "data = {\n",
        "    \"Total rows\": total_rows,\n",
        "    \"Unique keys\": number_of_unique_keys,\n",
        "    \"Unique Protein IDs\": len(unique_ids),\n",
        "    \"Unique Peptides\": len(unique_peptide),\n",
        "    \"Unique Mod Peptides\": len(mod_peptide),\n",
        "    \"Norm RT\": len(norm_rt),\n",
        "    \"No. Ion Mobility\": len(ion_mob)\n",
        "}\n",
        "\n",
        "labels = list(data.keys())\n",
        "values = list(data.values())\n",
        "\n",
        "# Adjust these parameters\n",
        "figsize = (14, 2)  # Make figure wider\n",
        "cell_text_size = 10  # Font size for table cells\n",
        "title_size = 12  # Font size for the title\n",
        "\n",
        "# Plot setup\n",
        "fig, ax = plt.subplots(figsize=figsize)\n",
        "ax.axis('tight')\n",
        "ax.axis('off')\n",
        "the_table = ax.table(cellText=[values],\n",
        "                     colLabels=labels,\n",
        "                     colColours=[\"palegreen\"]*len(values),  # This colors all columns similarly\n",
        "                     cellLoc='center',\n",
        "                     loc='center')\n",
        "the_table.auto_set_font_size(False)\n",
        "the_table.set_fontsize(cell_text_size)\n",
        "the_table.scale(1, 2.2)  # Scale column widths and row heights, adjust as needed\n",
        "\n",
        "plt.title('Summary Statistics Table', fontsize=title_size)\n",
        "plt.show()\n"
      ],
      "metadata": {
        "colab": {
          "base_uri": "https://localhost:8080/",
          "height": 999
        },
        "id": "hWB3gKuJCim3",
        "outputId": "11b99a38-d183-4f87-a63a-b61e87440427"
      },
      "execution_count": null,
      "outputs": [
        {
          "output_type": "display_data",
          "data": {
            "text/plain": [
              "<Figure size 800x400 with 1 Axes>"
            ],
            "image/png": "[encoded data removed]"
          },
          "metadata": {}
        },
        {
          "output_type": "display_data",
          "data": {
            "text/plain": [
              "<Figure size 800x400 with 1 Axes>"
            ],
            "image/png": "[encoded data removed]"
          },
          "metadata": {}
        },
        {
          "output_type": "display_data",
          "data": {
            "text/plain": [
              "<Figure size 1400x200 with 1 Axes>"
            ],
            "image/png": "[encoded data removed]"
          },
          "metadata": {}
        }
      ]
    },
    {
      "cell_type": "markdown",
      "source": [
        "# Search your **Query Protein** with Partial String of Uniprot ID"
      ],
      "metadata": {
        "id": "Nj9b_FKRddni"
      }
    },
    {
      "cell_type": "code",
      "source": [
        "# Get the user input for the initial letters of the UniProt ID and convert it to upper case for case-insensitivity\n",
        "partial_id = input(\"Enter the initial part of the UniProt ID: \").upper()\n",
        "\n",
        "# Ask user for the number of matches they want to see\n",
        "num_matches = int(input(\"Enter the number of matching proteins you want to see: \"))\n",
        "\n",
        "# Filter the DataFrame for entries that start with the partial ID in the 'ProteinId' column\n",
        "# Convert both dataframe column and input to upper case for case-insensitive comparison\n",
        "matching_ids = library[library['ProteinId'].str.upper().str.startswith(partial_id)]\n",
        "\n",
        "# Print the matching UniProt IDs\n",
        "if len(matching_ids) > 0:\n",
        "    unique_ids = matching_ids['ProteinId'].unique()\n",
        "    print(\"Matching UniProt IDs:\")\n",
        "    print(unique_ids)\n",
        "else:\n",
        "    print(\"No matching proteins found with that UniProt ID prefix.\")\n",
        "\n",
        "print()\n",
        "\n",
        "# Print the matching Protein IDs along with their corresponding 'AllMappedProteins' values\n",
        "if len(matching_ids) > 0:\n",
        "    print(\"Matching Protein IDs and their Mapped Proteins:\")\n",
        "    # Ensure only unique IDs up to the number requested are displayed\n",
        "    displayed_ids = unique_ids[:num_matches]\n",
        "    for protein_id in displayed_ids:\n",
        "        # Fetch the corresponding 'AllMappedProteins' value\n",
        "        mapped_protein = matching_ids[matching_ids['ProteinId'] == protein_id]['AllMappedProteins'].iloc[0]\n",
        "        print(f\"{protein_id} = {mapped_protein}\")\n",
        "else:\n",
        "    print(\"No matching proteins found to display.\")"
      ],
      "metadata": {
        "colab": {
          "base_uri": "https://localhost:8080/"
        },
        "id": "ioZ2ubtOMqnI",
        "outputId": "7b409e78-721d-4bcd-f115-7131255a0146"
      },
      "execution_count": null,
      "outputs": [
        {
          "output_type": "stream",
          "name": "stdout",
          "text": [
            "Enter the initial part of the UniProt ID: P10636\n",
            "Enter the number of matching proteins you want to see: 10\n",
            "Matching UniProt IDs:\n",
            "['P10636-0N4R']\n",
            "\n",
            "Matching Protein IDs and their Mapped Proteins:\n",
            "P10636-0N4R = sp|P10636-0N4R|0N4R_P301S_biosensor_sequence\n"
          ]
        }
      ]
    },
    {
      "cell_type": "code",
      "source": [
        "# Get the user input for the initial letters of the UniProt ID and convert it to upper case for case-insensitivity\n",
        "partial_id = input(\"Enter the initial part of the UniProt ID: \").upper()\n",
        "\n",
        "# Ask user for the number of matches they want to see\n",
        "num_matches = int(input(\"Enter the number of matching proteins you want to see: \"))\n",
        "\n",
        "# Filter the DataFrame for entries that start with the partial ID in the 'ProteinId' column\n",
        "# Convert both dataframe column and input to upper case for case-insensitive comparison\n",
        "matching_ids = library[library['ProteinId'].str.upper().str.startswith(partial_id)]\n",
        "\n",
        "# Print the matching UniProt IDs\n",
        "if len(matching_ids) > 0:\n",
        "    unique_ids = matching_ids['ProteinId'].unique()\n",
        "    print(\"Matching UniProt IDs:\")\n",
        "    print(unique_ids)\n",
        "else:\n",
        "    print(\"No matching proteins found with that UniProt ID prefix.\")\n",
        "\n",
        "print()\n",
        "\n",
        "# Print the matching Protein IDs along with their corresponding 'AllMappedProteins' values\n",
        "if len(matching_ids) > 0:\n",
        "    print(\"Matching Protein IDs and their Mapped Proteins:\")\n",
        "    # Ensure only unique IDs up to the number requested are displayed\n",
        "    displayed_ids = unique_ids[:num_matches]\n",
        "    for protein_id in displayed_ids:\n",
        "        # Check if 'AllMappedProteins' column exists before accessing it\n",
        "        if 'AllMappedProteins' in matching_ids.columns:\n",
        "            # Fetch the corresponding 'AllMappedProteins' value\n",
        "            mapped_protein = matching_ids[matching_ids['ProteinId'] == protein_id]['AllMappedProteins'].iloc[0]\n",
        "            print(f\"{protein_id} = {mapped_protein}\")\n",
        "        else:\n",
        "            print(f\"{protein_id} = 'AllMappedProteins' column not found in matching entries\")\n",
        "else:\n",
        "    print(\"No matching proteins found to display.\")"
      ],
      "metadata": {
        "colab": {
          "base_uri": "https://localhost:8080/"
        },
        "id": "8TFiup8HSpVt",
        "outputId": "2fe3a77b-3682-449b-b355-45fd7cb2d550"
      },
      "execution_count": null,
      "outputs": [
        {
          "output_type": "stream",
          "name": "stdout",
          "text": [
            "Enter the initial part of the UniProt ID: P10637\n",
            "Enter the number of matching proteins you want to see: 10\n",
            "Matching UniProt IDs:\n",
            "['P10637-3']\n",
            "\n",
            "Matching Protein IDs and their Mapped Proteins:\n",
            "P10637-3 = 'AllMappedProteins' column not found in matching entries\n"
          ]
        }
      ]
    },
    {
      "cell_type": "markdown",
      "source": [
        "# Search your **Peptide** with Partial String of Peptide Sequence"
      ],
      "metadata": {
        "id": "1k_0QZT-iKjn"
      }
    },
    {
      "cell_type": "code",
      "source": [
        "# Get the user input for the initial letters of the Peptide\n",
        "partial_id = input(\"Enter the initial part of the Peptide: \").upper()  # Convert input to uppercase for case-insensitive matching\n",
        "\n",
        "# Ask user for the number of matches they want to see\n",
        "num_matches = int(input(\"Enter the number of matching sequences you want to see: \"))\n",
        "\n",
        "# Filter the DataFrame for entries that contain the partial ID anywhere in the 'PeptideSequence' column\n",
        "# Here, str.contains is used with case=False for case-insensitive search\n",
        "matching_peptides = library[library['PeptideSequence'].str.contains(partial_id, case=False, na=False)]\n",
        "\n",
        "# Print the number of mapped entries found out of the total entries\n",
        "print(f\"Found {len(matching_peptides)} matching entries out of {len(library)} total entries.\")\n",
        "\n",
        "# Print the matching Peptides along with their corresponding Protein IDs\n",
        "if len(matching_peptides) == 0:\n",
        "    print(\"No matching peptides found.\")\n",
        "else:\n",
        "    print(\"Matching Peptides and Protein IDs:\")\n",
        "    # Limit the output to the number of matches requested by the user\n",
        "    for index, row in matching_peptides.head(num_matches).iterrows():\n",
        "        print(f\"{row['PeptideSequence']} - {row['ProteinId']}\")"
      ],
      "metadata": {
        "colab": {
          "base_uri": "https://localhost:8080/"
        },
        "id": "wLFIgj2HdxLV",
        "outputId": "6727112d-85ec-41ff-878e-71517b9506eb"
      },
      "execution_count": null,
      "outputs": [
        {
          "output_type": "stream",
          "name": "stdout",
          "text": [
            "Enter the initial part of the Peptide: AKSD\n",
            "Enter the number of matching sequences you want to see: 5\n",
            "Found 90 matching entries out of 6151063 total entries.\n",
            "Matching Peptides and Protein IDs:\n",
            "AQLGGPEAAKSDETAAK - P04792\n",
            "AQLGGPEAAKSDETAAK - P04792\n",
            "AQLGGPEAAKSDETAAK - P04792\n",
            "AQLGGPEAAKSDETAAK - P04792\n",
            "AQLGGPEAAKSDETAAK - P04792\n"
          ]
        }
      ]
    },
    {
      "cell_type": "markdown",
      "source": [
        "# Find Proteins against your Query Peptide Sequence"
      ],
      "metadata": {
        "id": "QjOHb365jgJv"
      }
    },
    {
      "cell_type": "code",
      "source": [
        "# Get the user input for the complete Peptide sequence\n",
        "full_peptide = input(\"Enter the complete Peptide sequence: \")\n",
        "\n",
        "# Filter the DataFrame for entries that exactly match the user's input in the 'PeptideSequence' column\n",
        "matching_entries = library[library['PeptideSequence'] == full_peptide]\n",
        "\n",
        "# Get the unique Protein IDs associated with the matching peptide\n",
        "unique_proteins = matching_entries['ProteinId'].unique()\n",
        "\n",
        "# Print the number of unique proteins found and their names\n",
        "print(f\"Number of unique proteins found: {len(unique_proteins)}\")\n",
        "if len(unique_proteins) > 0:\n",
        "    print(\"Protein IDs:\")\n",
        "    for protein in unique_proteins:\n",
        "        print(protein)\n",
        "else:\n",
        "    print(\"No proteins found for the given peptide.\")\n"
      ],
      "metadata": {
        "colab": {
          "base_uri": "https://localhost:8080/"
        },
        "id": "jq6sIB0njHpe",
        "outputId": "4afc8ad7-d1da-4f92-9e3e-44e4c66d18f4"
      },
      "execution_count": null,
      "outputs": [
        {
          "output_type": "stream",
          "name": "stdout",
          "text": [
            "Enter the complete Peptide sequence: AQLGGPEAAKSDETAAK\n",
            "Number of unique proteins found: 1\n",
            "Protein IDs:\n",
            "P04792\n"
          ]
        }
      ]
    },
    {
      "cell_type": "markdown",
      "source": [
        "# Library Merging"
      ],
      "metadata": {
        "id": "ZTT1g-x74jBI"
      }
    },
    {
      "cell_type": "code",
      "source": [
        "# Read the TSV files using pandas with tab as the separator\n",
        "library_1 = pd.read_csv('/content/drive/MyDrive/5.Single_Cell_Proteomics/0N4R_Analysis/Library/Library_Modification/Renamed_Tryptic_HEK_Mutant_0N4R_library.tsv', sep='\\t')\n",
        "library_2 = pd.read_csv('/content/drive/MyDrive/5.Single_Cell_Proteomics/0N4R_Analysis/Library/Library_Modification/Heavy_Label_TAU_Construct_library.tsv', sep='\\t')\n",
        "\n",
        "# Concatenate the two dataframes\n",
        "merged_df = pd.concat([library_1, library_2], ignore_index=True)\n",
        "\n",
        "# Specify the path for the output merged file\n",
        "output_path = '/content/drive/MyDrive/5.Single_Cell_Proteomics/0N4R_Analysis/Library/Library_Modification/Merged_library.tsv'\n",
        "merged_df.to_csv(output_path, sep='\\t', index=False)\n",
        "\n",
        "# Print the number of rows in each library\n",
        "print(f\"Number of rows in Library 1: {len(library_1)}\")\n",
        "print(f\"Number of rows in Library 2: {len(library_2)}\")\n",
        "print(f\"Number of rows in the merged library: {len(merged_df)}\")\n",
        "\n",
        "print(\"The files have been successfully merged and saved as a TSV file to:\", output_path)\n"
      ],
      "metadata": {
        "colab": {
          "base_uri": "https://localhost:8080/"
        },
        "id": "DXqDv6TAk6S-",
        "outputId": "6a23953a-c175-48e0-9d87-8c6be06083d4"
      },
      "execution_count": null,
      "outputs": [
        {
          "output_type": "stream",
          "name": "stdout",
          "text": [
            "Number of rows in Library 1: 6151063\n",
            "Number of rows in Library 2: 6066\n",
            "Number of rows in the merged library: 6157129\n",
            "The files have been successfully merged and saved as a TSV file to: /content/drive/MyDrive/5.Single_Cell_Proteomics/0N4R_Analysis/Library/Library_Modification/Merged_library.tsv\n"
          ]
        }
      ]
    },
    {
      "cell_type": "markdown",
      "source": [
        "# Query Protein Renaming in the Library"
      ],
      "metadata": {
        "id": "3RSbkXiK4o70"
      }
    },
    {
      "cell_type": "code",
      "source": [
        "# Load the TSV file\n",
        "file_path = '/content/drive/MyDrive/1.Spectral_Library_Merging/03152025_Phospho_Tryptic_Output_Library.tsv'  # Update this path to your actual file location\n",
        "\n",
        "# Read the TSV file into a DataFrame\n",
        "library = pd.read_csv(file_path, sep='\\t')\n",
        "\n",
        "# Function to query and rename the protein ID in the DataFrame\n",
        "def query_and_rename_protein(library, query_protein_id, query_AllMappedProteins, renamed_protein_id, renamed_AllMappedProteins):\n",
        "    # Count total rows before renaming\n",
        "    total_rows_before = len(library)\n",
        "    print(f\"Total rows before renaming: {total_rows_before}\")\n",
        "\n",
        "    # Check if the ProteinId is present in the DataFrame\n",
        "    if query_protein_id in library['ProteinId'].values:\n",
        "        # Count rows for the specified Protein ID\n",
        "        rows_for_protein = len(library[library['ProteinId'] == query_protein_id])\n",
        "        print(f\"Rows with Protein ID '{query_protein_id}': {rows_for_protein}\")\n",
        "\n",
        "        # Rename the specified ProteinId\n",
        "        library['ProteinId'] = library['ProteinId'].replace(query_protein_id, renamed_protein_id)\n",
        "\n",
        "        # Additionally, rename the entries in 'AllMappedProteins' that match the query_protein_id\n",
        "        library['AllMappedProteins'] = library['AllMappedProteins'].replace(query_AllMappedProteins, renamed_AllMappedProteins)\n",
        "\n",
        "        # Count total rows after renaming\n",
        "        total_rows_after = len(library)\n",
        "        print(f\"Protein ID '{query_protein_id}' has been renamed to '{renamed_protein_id}' in both 'ProteinId' and 'AllMappedProteins'.\")\n",
        "        print(f\"Total rows after renaming: {total_rows_after}\")\n",
        "\n",
        "    else:\n",
        "        print(f\"Protein ID '{query_protein_id}' not found in the library.\")\n",
        "        # Even if not found, print total rows\n",
        "        total_rows_after = len(library)\n",
        "        print(f\"Total rows (no change): {total_rows_after}\")\n",
        "\n",
        "    return library\n",
        "\n",
        "# Ask user for the ProteinId to search and the new ID to rename it to\n",
        "query_protein_id = input(\"Please enter your Query Uniprot ID to search for: \")\n",
        "renamed_protein_id = input(\"Please enter your ID which you want to rename with: \")\n",
        "query_AllMappedProteins = input(\"Please enter your Query AllMappedProteins to search for: \")\n",
        "renamed_AllMappedProteins = input(\"Please enter your AllMappedProteins which you want to rename with: \")\n",
        "\n",
        "# Call the function to search and rename the protein ID\n",
        "updated_library = query_and_rename_protein(library, query_protein_id, query_AllMappedProteins, renamed_protein_id, renamed_AllMappedProteins)\n",
        "\n",
        "# Save the updated DataFrame back to the TSV file\n",
        "updated_library.to_csv('/content/drive/MyDrive/5.Single_Cell_Proteomics/0N4R_Analysis/Library/Library_Modification/Renamed_Tryptic_HEK_Mutant_0N4R_library.tsv', sep='\\t', index=False)\n"
      ],
      "metadata": {
        "id": "P9StIyPMPy6F",
        "colab": {
          "base_uri": "https://localhost:8080/"
        },
        "outputId": "3c0c1b1b-ba13-4eb4-d0b4-65932d5f0cd4"
      },
      "execution_count": null,
      "outputs": [
        {
          "metadata": {
            "tags": null
          },
          "name": "stdout",
          "output_type": "stream",
          "text": [
            "Total rows before renaming: 6151063\n",
            "Rows with Protein ID 'P10636-0N4R': 4818\n",
            "Protein ID 'P10636-0N4R' has been renamed to 'Custom_Tau_Construct' in both 'ProteinId' and 'AllMappedProteins'.\n",
            "Total rows after renaming: 6151063\n"
          ]
        }
      ]
    },
    {
      "cell_type": "markdown",
      "source": [
        "# Mining of library for your Query Protein"
      ],
      "metadata": {
        "id": "K0b1cl1hjt2b"
      }
    },
    {
      "cell_type": "code",
      "source": [
        "library = pd.read_csv('/content/drive/MyDrive/1.Spectral_Library_Merging/03152025_Phospho_Tryptic_Output_Library.tsv', sep='\\t')\n",
        "\n",
        "# Ask user for the ProteinId to search\n",
        "protein_id = input(\"Please enter your Query Uniprot ID to search for: \")\n",
        "\n",
        "def query_protein(library):\n",
        "\n",
        "    # Check if the ProteinId is present in the DataFrame\n",
        "    if protein_id in library['ProteinId'].values:\n",
        "        # Extract data for the input ProteinId\n",
        "        protein_data = library[library['ProteinId'] == protein_id]\n",
        "\n",
        "        # Define the output path with the protein_id as the filename\n",
        "        output_path = f\"/content/{protein_id}_library.tsv\"\n",
        "        protein_data.to_csv(output_path, sep='\\t', index=False)\n",
        "        print(f\"Data successfully saved to {output_path}\")\n",
        "\n",
        "        # Optional: Download the CSV file if in a Colab environment\n",
        "        try:\n",
        "            from google.colab import files\n",
        "            files.download(output_path)\n",
        "            print(\"Processing complete. CSV file is ready for download.\")\n",
        "        except ImportError:\n",
        "            print(\"Google Colab libraries not available. File saved locally.\")\n",
        "\n",
        "        return protein_data  # Return the DataFrame containing the queried data\n",
        "    else:\n",
        "        print(\"ProteinID '{}' is not present in the Data.\".format(protein_id))\n",
        "        return None  # Return None if the protein ID is not found\n",
        "\n",
        "# Example of calling the function and storing the result\n",
        "result_df = query_protein(library)\n",
        "if result_df is not None:\n",
        "    # If result_df is not None, you can perform additional operations here\n",
        "    print(\"Dataframe is ready for further processing.\")"
      ],
      "metadata": {
        "colab": {
          "base_uri": "https://localhost:8080/",
          "height": 90
        },
        "id": "atzK_AUnCrhT",
        "outputId": "5cd5f802-35b9-4050-8745-561c6c3f0272"
      },
      "execution_count": null,
      "outputs": [
        {
          "output_type": "stream",
          "name": "stdout",
          "text": [
            "Please enter your Query Uniprot ID to search for: P10636-0N4R\n",
            "Data successfully saved to /content/P10636-0N4R_library.tsv\n"
          ]
        },
        {
          "output_type": "display_data",
          "data": {
            "text/plain": [
              "<IPython.core.display.Javascript object>"
            ],
            "application/javascript": [
              "\n",
              "    async function download(id, filename, size) {\n",
              "      if (!google.colab.kernel.accessAllowed) {\n",
              "        return;\n",
              "      }\n",
              "      const div = document.createElement('div');\n",
              "      const label = document.createElement('label');\n",
              "      label.textContent = `Downloading \"${filename}\": `;\n",
              "      div.appendChild(label);\n",
              "      const progress = document.createElement('progress');\n",
              "      progress.max = size;\n",
              "      div.appendChild(progress);\n",
              "      document.body.appendChild(div);\n",
              "\n",
              "      const buffers = [];\n",
              "      let downloaded = 0;\n",
              "\n",
              "      const channel = await google.colab.kernel.comms.open(id);\n",
              "      // Send a message to notify the kernel that we're ready.\n",
              "      channel.send({})\n",
              "\n",
              "      for await (const message of channel.messages) {\n",
              "        // Send a message to notify the kernel that we're ready.\n",
              "        channel.send({})\n",
              "        if (message.buffers) {\n",
              "          for (const buffer of message.buffers) {\n",
              "            buffers.push(buffer);\n",
              "            downloaded += buffer.byteLength;\n",
              "            progress.value = downloaded;\n",
              "          }\n",
              "        }\n",
              "      }\n",
              "      const blob = new Blob(buffers, {type: 'application/binary'});\n",
              "      const a = document.createElement('a');\n",
              "      a.href = window.URL.createObjectURL(blob);\n",
              "      a.download = filename;\n",
              "      div.appendChild(a);\n",
              "      a.click();\n",
              "      div.remove();\n",
              "    }\n",
              "  "
            ]
          },
          "metadata": {}
        },
        {
          "output_type": "display_data",
          "data": {
            "text/plain": [
              "<IPython.core.display.Javascript object>"
            ],
            "application/javascript": [
              "download(\"download_34613d09-1de4-4da6-a6ee-95e0fe55dc98\", \"P10636-0N4R_library.tsv\", 2669080)"
            ]
          },
          "metadata": {}
        },
        {
          "output_type": "stream",
          "name": "stdout",
          "text": [
            "Processing complete. CSV file is ready for download.\n",
            "Dataframe is ready for further processing.\n"
          ]
        }
      ]
    },
    {
      "cell_type": "markdown",
      "source": [
        "# Mining of library for Multiple Query Protein"
      ],
      "metadata": {
        "id": "S3xujGMmxjgH"
      }
    },
    {
      "cell_type": "code",
      "source": [
        "# Function to load and clean library data\n",
        "def load_library(path):\n",
        "    library = pd.read_csv(path, sep='\\t')\n",
        "    # Strip whitespace from headers and ProteinId values\n",
        "    library.columns = library.columns.str.strip()\n",
        "    library['ProteinId'] = library['ProteinId'].str.strip()\n",
        "    return library\n",
        "\n",
        "# Function to query protein IDs\n",
        "def query_protein(library, protein_ids):\n",
        "    \"\"\"Query the DataFrame for given Protein IDs and save the results in a single TSV format.\"\"\"\n",
        "    # Normalize input IDs by stripping any potential whitespace\n",
        "    protein_ids = [id.strip() for id in protein_ids]\n",
        "    found_data = library[library['ProteinId'].isin(protein_ids)]\n",
        "    found_protein_ids = found_data['ProteinId'].unique()\n",
        "\n",
        "    # Determine which IDs were not found\n",
        "    not_found_ids = [id for id in protein_ids if id not in found_protein_ids]\n",
        "    if not_found_ids:\n",
        "        print(\"Warning: The following Protein IDs were not found in the dataset:\", ', '.join(not_found_ids))\n",
        "\n",
        "    if not found_data.empty:\n",
        "        output_path = \"/content/Query_Protein_Library.tsv\"\n",
        "        found_data.to_csv(output_path, index=False, sep='\\t')\n",
        "        print(f\"Data successfully saved to {output_path}\")\n",
        "        # Optional: Download the TSV file if in a Colab environment\n",
        "        try:\n",
        "            from google.colab import files\n",
        "            files.download(output_path)\n",
        "        except ImportError:\n",
        "            print(\"libraries not available. File saved locally.\")\n",
        "    else:\n",
        "        print(\"No valid Protein IDs found.\")\n",
        "\n",
        "# Get user input\n",
        "choice = input(\"Select 1 for one protein and 2 for multiple proteins: \").strip()\n",
        "if choice == \"1\":\n",
        "    protein_id = input(\"Please enter your Query UniProt ID to search for: \").strip()\n",
        "    protein_ids = [protein_id]\n",
        "elif choice == \"2\":\n",
        "    protein_ids_input = input(\"Enter UniProt IDs separated by a space: \").strip()\n",
        "    protein_ids = protein_ids_input.split()\n",
        "else:\n",
        "    print(\"Invalid choice. Please enter 1 or 2.\")\n",
        "    protein_ids = []\n",
        "\n",
        "# Query the library if IDs were provided\n",
        "if protein_ids:\n",
        "    result_df = query_protein(library, protein_ids)\n"
      ],
      "metadata": {
        "colab": {
          "base_uri": "https://localhost:8080/",
          "height": 72
        },
        "id": "VYJIb3_ks-c4",
        "outputId": "a81dd1d4-af47-4846-8913-79383c1cce0b"
      },
      "execution_count": null,
      "outputs": [
        {
          "output_type": "stream",
          "name": "stdout",
          "text": [
            "Select 1 for one protein and 2 for multiple proteins: 2\n",
            "Enter UniProt IDs separated by a space: P04792 P04792\n",
            "Data successfully saved to /content/Query_Protein_Library.tsv\n"
          ]
        },
        {
          "output_type": "display_data",
          "data": {
            "text/plain": [
              "<IPython.core.display.Javascript object>"
            ],
            "application/javascript": [
              "\n",
              "    async function download(id, filename, size) {\n",
              "      if (!google.colab.kernel.accessAllowed) {\n",
              "        return;\n",
              "      }\n",
              "      const div = document.createElement('div');\n",
              "      const label = document.createElement('label');\n",
              "      label.textContent = `Downloading \"${filename}\": `;\n",
              "      div.appendChild(label);\n",
              "      const progress = document.createElement('progress');\n",
              "      progress.max = size;\n",
              "      div.appendChild(progress);\n",
              "      document.body.appendChild(div);\n",
              "\n",
              "      const buffers = [];\n",
              "      let downloaded = 0;\n",
              "\n",
              "      const channel = await google.colab.kernel.comms.open(id);\n",
              "      // Send a message to notify the kernel that we're ready.\n",
              "      channel.send({})\n",
              "\n",
              "      for await (const message of channel.messages) {\n",
              "        // Send a message to notify the kernel that we're ready.\n",
              "        channel.send({})\n",
              "        if (message.buffers) {\n",
              "          for (const buffer of message.buffers) {\n",
              "            buffers.push(buffer);\n",
              "            downloaded += buffer.byteLength;\n",
              "            progress.value = downloaded;\n",
              "          }\n",
              "        }\n",
              "      }\n",
              "      const blob = new Blob(buffers, {type: 'application/binary'});\n",
              "      const a = document.createElement('a');\n",
              "      a.href = window.URL.createObjectURL(blob);\n",
              "      a.download = filename;\n",
              "      div.appendChild(a);\n",
              "      a.click();\n",
              "      div.remove();\n",
              "    }\n",
              "  "
            ]
          },
          "metadata": {}
        },
        {
          "output_type": "display_data",
          "data": {
            "text/plain": [
              "<IPython.core.display.Javascript object>"
            ],
            "application/javascript": [
              "download(\"download_a15af8d5-b681-4874-8238-aa241e902c8b\", \"Query_Protein_Library.tsv\", 255125)"
            ]
          },
          "metadata": {}
        }
      ]
    },
    {
      "cell_type": "markdown",
      "source": [
        "# Fetching FASTA sequence of Query Protein"
      ],
      "metadata": {
        "id": "MDboJCvexqof"
      }
    },
    {
      "cell_type": "code",
      "source": [
        "def fetch_fasta(protein_id):\n",
        "    \"\"\"Fetch the FASTA sequence for a given protein ID from UniProt.\"\"\"\n",
        "    url = f\"https://www.uniprot.org/uniprot/{protein_id}.fasta\"\n",
        "    response = requests.get(url)\n",
        "    if response.status_code == 200:\n",
        "        fasta = ''.join(response.text.split('\\n')[1:]).replace('\\n', '').strip()\n",
        "        return fasta\n",
        "    else:\n",
        "        print(f\"Failed to retrieve FASTA sequence with status code: {response.status_code}\")\n",
        "        return None\n",
        "\n",
        "def main():\n",
        "    print(\"Do you want to fetch the FASTA sequence from UniProt?\")\n",
        "    print(\"Type 'YES' to automatically fetch the FASTA sequence for a given Protein ID from UniProt.\")\n",
        "    print(\"Type 'NO' if you prefer to manually enter the FASTA sequence.\")\n",
        "\n",
        "    choice = input(\"Enter your choice (YES/NO): \").strip().upper()\n",
        "\n",
        "    if choice == \"YES\":\n",
        "        protein_id = input(\"Please enter your Query Uniprot ID to search for: \").strip()\n",
        "        fasta_sequence = fetch_fasta(protein_id)\n",
        "        if not fasta_sequence:\n",
        "            print(\"No FASTA sequence was retrieved.\")\n",
        "            return\n",
        "    elif choice == \"NO\":\n",
        "        fasta_sequence = input(\"Please paste the Protein sequence here in Upper Case: \").strip().upper()\n",
        "        # Ensure only alphabetic characters are included\n",
        "        fasta_sequence = ''.join([char for char in fasta_sequence if char.isalpha()])\n",
        "        if not fasta_sequence:\n",
        "            print(\"No valid input was provided. Please ensure the input format is only the protein sequence in Upper Case.\")\n",
        "            print(\"Example: MAEPRQEFEVMEDHAGTYGLGDRKDQGGYTMHQDQEGDTDAGLKESPLQTPTEDGSEEP.\")\n",
        "            return\n",
        "    else:\n",
        "        print(\"Invalid input. Please type 'YES' or 'NO'.\")\n",
        "        return\n",
        "\n",
        "    if fasta_sequence:\n",
        "        # Convert sequence into a single line without spaces\n",
        "        single_line_sequence = \"\".join(fasta_sequence.splitlines()).replace(\" \", \"\")\n",
        "        print(f'(\"{single_line_sequence}\")')\n",
        "    else:\n",
        "        print(\"No FASTA sequence was retrieved or input.\")\n",
        "\n",
        "if __name__ == \"__main__\":\n",
        "    main()"
      ],
      "metadata": {
        "colab": {
          "base_uri": "https://localhost:8080/"
        },
        "id": "4xHVu13Ac6jV",
        "outputId": "4f04cb86-d7a9-4978-c4cc-4c09f5c7fa59"
      },
      "execution_count": null,
      "outputs": [
        {
          "output_type": "stream",
          "name": "stdout",
          "text": [
            "Do you want to fetch the FASTA sequence from UniProt?\n",
            "Type 'YES' to automatically fetch the FASTA sequence for a given Protein ID from UniProt.\n",
            "Type 'NO' if you prefer to manually enter the FASTA sequence.\n",
            "Enter your choice (YES/NO): YES\n",
            "Please enter your Query Uniprot ID to search for: P04792\n",
            "(\"MTERRVPFSLLRGPSWDPFRDWYPHSRLFDQAFGLPRLPEEWSQWLGGSSWPGYVRPLPPAAIESPAVAAPAYSRALSRQLSSGVSEIRHTADRWRVSLDVNHFAPDELTVKTKDGVVEITGKHEERQDEHGYISRCFTRKYTLPPGVDPTQVSSSLSPEGTLTVEAPMPKLATQSNEITIPVTFESRAQLGGPEAAKSDETAAK\")\n"
          ]
        }
      ]
    },
    {
      "cell_type": "markdown",
      "source": [
        "# Query Protein based FASTA Sequence Mapping with peptides in the Library"
      ],
      "metadata": {
        "id": "5XdmlfnEostU"
      }
    },
    {
      "cell_type": "code",
      "source": [
        "# Ensure you have defined peptide_list correctly somewhere in the global scope\n",
        "peptide_list = \"\"\"SEKLDFK\n",
        "LTFRENAK\n",
        "IPAKTPPAPK\n",
        "GQANATRIPAK\n",
        "KLDLSNVQSK\n",
        "TDHGAEIVYK\n",
        "SEKLDFKDR\n",
        "IGSTENLKHQPGGGK\n",
        "TPSLPTPPTREPKK\n",
        "LDFKDRVQSK\n",
        "SRTPSLPTPPTREPK\n",
        "VQIINKK\n",
        "IGSLDNITHVPGGGNKK\n",
        "GQANATRIPAKTPPAPK\n",
        "IGSTENLK\n",
        "PGGGQVEVK\n",
        "SRTPSLPTPPTR\n",
        "AKTDHGAEIVYK\n",
        "GAAPPGQKGQANATRIPAK\n",
        "HQPGGGKVQIINK\n",
        "TPPSSGEPPKSGDR\n",
        "TPSLPTPPTREPK\n",
        "GAAPPGQKGQANATR\n",
        "CGSLGNIHHKPGGGQVEVK\n",
        "HVSGGGSVQIVYKPVDLSK\n",
        "TPPSSGEPPK\n",
        "LDLSNVQSK\n",
        "SRLQTAPVPMPDLK\n",
        "IGSLDNITHVPGGGNK\n",
        "TPSLPTPPTR\n",
        "SKIGSTENLK\n",
        "QEFEVMEDHAGTYGLGDRK\n",
        "SPVVSGDTSPR\n",
        "TDHGAEIVYKSPVVSGDTSPR\n",
        "KDQGGYTMHQDQEGDTDAGLK\n",
        "IGSLDNITHVPGGGNKKIETHK\n",
        "LQTAPVPMPDLK\n",
        "HVSGGGSVQIVYK\n",
        "AEPRQEFEVMEDHAGTYGLGDRK\n",
        "QEFEVMEDHAGTYGLGDR\n",
        "SGYSSPGSPGTPGSR\n",
        "DQGGYTMHQDQEGDTDAGLK\n",
        "AEEAGIGDTPSLEDEAAGHVTQAR\n",
        "HLSNVSSTGSIDMVDSPQLATLADEVSASLAK\n",
        "AEPRQEFEVMEDHAGTYGLGDR\n",
        "QEFEVMEDHAGTYGLGDRKDQGGYTMHQDQEGDTDAGLK\n",
        "SGDRSGYSSPGSPGTPGSR\n",
        "DQGGYTMHQDQEGDTDAGLKAEEAGIGDTPSLEDEAAGHVTQAR\n",
        "KDQGGYTMHQDQEGDTDAGLKAEEAGIGDTPSLEDEAAGHVTQAR\n",
        "\"\"\"\n",
        "\n",
        "# Ask user for the UniProt Protein ID to use for Map Title\n",
        "protein_id = input(\"Please enter your UniProt Name for using it : \")\n",
        "\n",
        "# Ask user for a list of peptides, with one space between each peptide\n",
        "peptide_input = input(\"Please enter a list of peptides separated by a space: \")\n",
        "\n",
        "# Convert the space-separated string of peptides into a list\n",
        "peptide_list = peptide_input.split()\n",
        "\n",
        "def fetch_fasta(protein_id):\n",
        "    \"\"\"Fetch the FASTA sequence for a given protein ID from UniProt.\"\"\"\n",
        "    url = f\"https://www.uniprot.org/uniprot/{protein_id}.fasta\"\n",
        "    response = requests.get(url)\n",
        "    if response.status_code == 200:\n",
        "        fasta = ''.join(response.text.split('\\n')[1:]).replace('\\n', '').strip()\n",
        "        return fasta\n",
        "    else:\n",
        "        print(f\"Failed to retrieve FASTA sequence with status code: {response.status_code}\")\n",
        "        return None\n",
        "\n",
        "def convert_to_peptide_list(peptide_string):\n",
        "    # Split the peptide string by newlines, and strip any leading/trailing spaces\n",
        "    peptides = [peptide.strip() for peptide in peptide_string.strip().split(\"\\n\") if peptide.strip()]\n",
        "    return peptides\n",
        "\n",
        "def calculate_coverage(fasta_sequence, peptides):\n",
        "    coverage = np.zeros(len(fasta_sequence), dtype=int)\n",
        "    # Find each peptide in the sequence and mark it\n",
        "    for peptide in peptides:\n",
        "        for match in re.finditer(peptide, fasta_sequence):\n",
        "            start, end = match.start(), match.end()\n",
        "            coverage[start:end] = 1  # Mark covered region\n",
        "    # Calculate the coverage percentage\n",
        "    covered_amino_acids = np.sum(coverage)  # Number of amino acids covered by peptides\n",
        "    total_amino_acids = len(fasta_sequence)  # Total number of amino acids in the sequence\n",
        "    coverage_percentage = (covered_amino_acids / total_amino_acids) * 100\n",
        "    return coverage_percentage, covered_amino_acids, total_amino_acids, coverage\n",
        "\n",
        "def visualize_mapping(fasta_sequence, coverage, coverage_percentage, line_length=50):\n",
        "    # Break the sequence into multiple lines (50 amino acids per line)\n",
        "    seq_chunks = [fasta_sequence[i:i+line_length] for i in range(0, len(fasta_sequence), line_length)]\n",
        "    coverage_chunks = [coverage[i:i+line_length] for i in range(0, len(coverage), line_length)]\n",
        "\n",
        "    # Adjust figure size based on number of lines\n",
        "    num_lines = len(seq_chunks)\n",
        "    fig, ax = plt.subplots(figsize=(16, num_lines * 0.5))  # Adjusted figure size for less white space\n",
        "\n",
        "    # Create a grid for the text, each character occupies its own square\n",
        "    for line_idx, (seq_chunk, coverage_chunk) in enumerate(zip(seq_chunks, coverage_chunks)):\n",
        "        start_num = line_idx * line_length + 1  # Starting number for the current line\n",
        "        end_num = min(start_num + line_length - 1, len(fasta_sequence))  # Ending number for the current line\n",
        "\n",
        "        # Display sequence and coverage with colors and boldness\n",
        "        for i, char in enumerate(seq_chunk):\n",
        "            color = 'royalblue' if coverage_chunk[i] == 1 else 'black'  # Red for covered, black for non-covered\n",
        "            weight = 'bold' if coverage_chunk[i] == 1 else 'normal'  # Bold for covered, normal for non-covered\n",
        "            ax.text(i + 1, num_lines - line_idx - 1, char, va='center', ha='center', color=color, fontsize=12, fontweight=weight)\n",
        "\n",
        "        # Add the start and end numbers on the sides of the sequence with smaller font size\n",
        "        ax.text(-0.8, num_lines - line_idx - 0.8, str(start_num), va='center', ha='right', fontsize=11, fontweight='normal')\n",
        "        ax.text(line_length + 1, num_lines - line_idx - 0.8, str(end_num), va='center', ha='left', fontsize=11, fontweight='normal')\n",
        "\n",
        "    # Set the aspect ratio to make it grid-like and uniform\n",
        "    ax.set_aspect('equal')\n",
        "\n",
        "    # Add a black border around the plot\n",
        "    for spine in ax.spines.values():\n",
        "        spine.set_edgecolor('white')  # Set border color to black\n",
        "        spine.set_linewidth(2)        # Set border thickness\n",
        "\n",
        "    # Adjust x and y limits to add space around the sequence and reduce overlap with the borders\n",
        "    ax.set_xlim(-2, line_length + 2)  # Reduced the white space on both sides\n",
        "    ax.set_ylim(-0.5, num_lines - 0.5)\n",
        "\n",
        "    # Add padding (white space)\n",
        "    plt.subplots_adjust(left=0.05, right=0.95, top=0.9, bottom=0.1)  # Reduced padding for less white space\n",
        "\n",
        "    # Add the title outside the border, showing coverage percentage\n",
        "    plt.suptitle(f'Coverage of {protein_id} : {coverage_percentage:.2f}%', fontsize=14, y=0.82, weight ='bold')\n",
        "\n",
        "    # Hide the axis ticks and labels\n",
        "    ax.set_xticks([])\n",
        "    ax.set_yticks([])\n",
        "\n",
        "    # Save the figure with transparency\n",
        "    #plt.savefig(f'Coverage of {protein_id}.png', transparent=True, bbox_inches='tight', dpi=600)\n",
        "\n",
        "    # Show the plot after saving\n",
        "    plt.show()\n",
        "\n",
        "def main():\n",
        "    choice = input(\"Fetch FASTA from UniProt? (YES/NO): \").strip().upper()\n",
        "    if choice == \"YES\":\n",
        "        protein_id = input(\"Enter UniProt ID: \").strip()\n",
        "        fasta_sequence = fetch_fasta(protein_id)\n",
        "        if not fasta_sequence:\n",
        "            return\n",
        "    elif choice == \"NO\":\n",
        "        fasta_sequence = input(\"Paste the Protein sequence: \").replace(\" \", \"\").strip().upper()\n",
        "    else:\n",
        "        print(\"Invalid input. Please type 'YES' or 'NO'.\")\n",
        "        return\n",
        "\n",
        "    if fasta_sequence:\n",
        "        # Presumably, Peptide_list is supposed to be the peptides_string\n",
        "        peptides_string = Peptide_list\n",
        "        peptides = convert_to_peptide_list(peptides_string)\n",
        "        coverage_percentage, covered_amino_acids, total_amino_acids, coverage = calculate_coverage(fasta_sequence, peptides)\n",
        "        visualize_mapping(fasta_sequence, coverage, coverage_percentage)  # Pass only the necessary arguments\n",
        "    else:\n",
        "        print(\"No valid sequence input.\")\n",
        "\n",
        "    print()\n",
        "\n",
        "    #### Peptide Mapping Status\n",
        "\n",
        "    # Total number of peptides\n",
        "    total_peptides = len(peptides)\n",
        "\n",
        "    # Count peptides that map to the FASTA sequence\n",
        "    mapped_peptides = [peptide for peptide in peptides if peptide in fasta_sequence]\n",
        "    num_mapped = len(mapped_peptides)\n",
        "\n",
        "    # Identify non-mapped peptides\n",
        "    not_mapped_peptides = [peptide for peptide in peptides if peptide not in fasta_sequence]\n",
        "    num_not_mapped = len(not_mapped_peptides)\n",
        "\n",
        "    # Calculate percentage of peptides mapped\n",
        "    percentage_mapped = (num_mapped / total_peptides) * 100\n",
        "\n",
        "    # Print results\n",
        "    print(f\"Total peptides: {total_peptides}\")\n",
        "    print(f\"Number of peptides that map to the FASTA sequence: {num_mapped}\")\n",
        "    print(f\"Number of peptides that do not map to the FASTA sequence: {num_not_mapped}\")\n",
        "\n",
        "    print()\n",
        "\n",
        "    print(f\"\\nMapped peptides:{num_mapped}\")\n",
        "    for peptide in mapped_peptides:\n",
        "        print(peptide)\n",
        "\n",
        "    print()\n",
        "\n",
        "    print(f\"\\nNon-mapped peptides:{num_not_mapped}\")\n",
        "    for peptide in not_mapped_peptides:\n",
        "        print(peptide)\n",
        "\n",
        "if __name__ == \"__main__\":\n",
        "    main()\n"
      ],
      "metadata": {
        "colab": {
          "base_uri": "https://localhost:8080/",
          "height": 390
        },
        "id": "WuCUMmpdP0m4",
        "outputId": "5f265cd0-e136-4178-8a69-4963587ddbfd"
      },
      "execution_count": null,
      "outputs": [
        {
          "name": "stdout",
          "output_type": "stream",
          "text": [
            "Please enter your UniProt Name for using it : P01636\n"
          ]
        },
        {
          "output_type": "error",
          "ename": "KeyboardInterrupt",
          "evalue": "Interrupted by user",
          "traceback": [
            "\u001b[0;31m---------------------------------------------------------------------------\u001b[0m",
            "\u001b[0;31mKeyboardInterrupt\u001b[0m                         Traceback (most recent call last)",
            "\u001b[0;32m<ipython-input-11-f0438a722713>\u001b[0m in \u001b[0;36m<cell line: 57>\u001b[0;34m()\u001b[0m\n\u001b[1;32m     55\u001b[0m \u001b[0;34m\u001b[0m\u001b[0m\n\u001b[1;32m     56\u001b[0m \u001b[0;31m# Ask user for a list of peptides, with one space between each peptide\u001b[0m\u001b[0;34m\u001b[0m\u001b[0;34m\u001b[0m\u001b[0m\n\u001b[0;32m---> 57\u001b[0;31m \u001b[0mpeptide_input\u001b[0m \u001b[0;34m=\u001b[0m \u001b[0minput\u001b[0m\u001b[0;34m(\u001b[0m\u001b[0;34m\"Please enter a list of peptides separated by a space: \"\u001b[0m\u001b[0;34m)\u001b[0m\u001b[0;34m\u001b[0m\u001b[0;34m\u001b[0m\u001b[0m\n\u001b[0m\u001b[1;32m     58\u001b[0m \u001b[0;34m\u001b[0m\u001b[0m\n\u001b[1;32m     59\u001b[0m \u001b[0;31m# Convert the space-separated string of peptides into a list\u001b[0m\u001b[0;34m\u001b[0m\u001b[0;34m\u001b[0m\u001b[0m\n",
            "\u001b[0;32m/usr/local/lib/python3.10/dist-packages/ipykernel/kernelbase.py\u001b[0m in \u001b[0;36mraw_input\u001b[0;34m(self, prompt)\u001b[0m\n\u001b[1;32m    849\u001b[0m                 \u001b[0;34m\"raw_input was called, but this frontend does not support input requests.\"\u001b[0m\u001b[0;34m\u001b[0m\u001b[0;34m\u001b[0m\u001b[0m\n\u001b[1;32m    850\u001b[0m             )\n\u001b[0;32m--> 851\u001b[0;31m         return self._input_request(str(prompt),\n\u001b[0m\u001b[1;32m    852\u001b[0m             \u001b[0mself\u001b[0m\u001b[0;34m.\u001b[0m\u001b[0m_parent_ident\u001b[0m\u001b[0;34m,\u001b[0m\u001b[0;34m\u001b[0m\u001b[0;34m\u001b[0m\u001b[0m\n\u001b[1;32m    853\u001b[0m             \u001b[0mself\u001b[0m\u001b[0;34m.\u001b[0m\u001b[0m_parent_header\u001b[0m\u001b[0;34m,\u001b[0m\u001b[0;34m\u001b[0m\u001b[0;34m\u001b[0m\u001b[0m\n",
            "\u001b[0;32m/usr/local/lib/python3.10/dist-packages/ipykernel/kernelbase.py\u001b[0m in \u001b[0;36m_input_request\u001b[0;34m(self, prompt, ident, parent, password)\u001b[0m\n\u001b[1;32m    893\u001b[0m             \u001b[0;32mexcept\u001b[0m \u001b[0mKeyboardInterrupt\u001b[0m\u001b[0;34m:\u001b[0m\u001b[0;34m\u001b[0m\u001b[0;34m\u001b[0m\u001b[0m\n\u001b[1;32m    894\u001b[0m                 \u001b[0;31m# re-raise KeyboardInterrupt, to truncate traceback\u001b[0m\u001b[0;34m\u001b[0m\u001b[0;34m\u001b[0m\u001b[0m\n\u001b[0;32m--> 895\u001b[0;31m                 \u001b[0;32mraise\u001b[0m \u001b[0mKeyboardInterrupt\u001b[0m\u001b[0;34m(\u001b[0m\u001b[0;34m\"Interrupted by user\"\u001b[0m\u001b[0;34m)\u001b[0m \u001b[0;32mfrom\u001b[0m \u001b[0;32mNone\u001b[0m\u001b[0;34m\u001b[0m\u001b[0;34m\u001b[0m\u001b[0m\n\u001b[0m\u001b[1;32m    896\u001b[0m             \u001b[0;32mexcept\u001b[0m \u001b[0mException\u001b[0m \u001b[0;32mas\u001b[0m \u001b[0me\u001b[0m\u001b[0;34m:\u001b[0m\u001b[0;34m\u001b[0m\u001b[0;34m\u001b[0m\u001b[0m\n\u001b[1;32m    897\u001b[0m                 \u001b[0mself\u001b[0m\u001b[0;34m.\u001b[0m\u001b[0mlog\u001b[0m\u001b[0;34m.\u001b[0m\u001b[0mwarning\u001b[0m\u001b[0;34m(\u001b[0m\u001b[0;34m\"Invalid Message:\"\u001b[0m\u001b[0;34m,\u001b[0m \u001b[0mexc_info\u001b[0m\u001b[0;34m=\u001b[0m\u001b[0;32mTrue\u001b[0m\u001b[0;34m)\u001b[0m\u001b[0;34m\u001b[0m\u001b[0;34m\u001b[0m\u001b[0m\n",
            "\u001b[0;31mKeyboardInterrupt\u001b[0m: Interrupted by user"
          ]
        }
      ]
    },
    {
      "cell_type": "markdown",
      "source": [
        "For Spectronaut"
      ],
      "metadata": {
        "id": "CJAiW8ZuI9__"
      }
    },
    {
      "cell_type": "code",
      "source": [
        "#'ReferenceRun', 'PrecursorCharge', 'Workflow', 'IntModifiedPeptide', 'CV',\n",
        "# 'AllowForNormalization', 'ModifiedPeptide', 'StrippedPeptide', 'iRT', 'IonMobility',\n",
        "# 'iRTSourceSpecific', 'BGSInferenceId', 'IsProteotypic', 'IntLabeledPeptide', 'LabeledPeptide',\n",
        "# 'PrecursorMz', 'ReferenceRunQvalue', 'ReferenceRunMS1Response', 'FragmentLossType',\n",
        "# 'FragmentNumber', 'FragmentType', 'FragmentCharge', 'FragmentMz', 'RelativeIntensity',\n",
        "# 'ExcludeFromAssay', 'Database', 'ProteinGroups', 'UniProtIds', 'Protein Name', 'ProteinDescription',\n",
        "# 'Organisms', 'OrganismId', 'Genes', 'Protein Existence', 'Sequence Version', 'FASTAName']\n",
        "\n",
        "\n",
        "def create_unique_key(library):\n",
        "    # Define columns based on data type\n",
        "    object_cols = ['FragmentMz', 'UniProtIds', 'Genes', 'ModifiedPeptide', 'PrecursorCharge']\n",
        "\n",
        "    # Fill missing values in the DataFrame\n",
        "    for col in object_cols:\n",
        "        if library[col].dtype == 'object':  # For string-type columns\n",
        "            library.loc[:, col] = library[col].fillna('missing')\n",
        "        else:  # For numeric columns, fill with a default number\n",
        "            library.loc[:, col] = library[col].fillna(-1)\n",
        "\n",
        "    # Create the unique key column\n",
        "    library['Merged'] = library['PrecursorMz'].astype(str) + \"_\" + \\\n",
        "                        library['FragmentMz'].astype(str) + \"_\" + \\\n",
        "                        library['UniProtIds'].astype(str) + \"_\" + \\\n",
        "                        library['Genes'].astype(str) + \"_\" + \\\n",
        "                        library['ModifiedPeptide'].astype(str) + \"_\" + \\\n",
        "                        library['PrecursorCharge'].astype(str)\n",
        "\n",
        "    # Return the number of unique keys\n",
        "    return library['Merged'].nunique()\n",
        "\n",
        "\n",
        "df = library.copy()\n",
        "number_of_unique_keys = create_unique_key(df)\n",
        "\n",
        "# Extract unique IDs from the 'ProteinId' column\n",
        "total_rows = library.shape[0]\n",
        "unique_ids = library['UniProtIds'].dropna().unique()\n",
        "unique_peptide = library['StrippedPeptide'].dropna().unique()\n",
        "mod_peptide = library['ModifiedPeptide'].dropna().unique()\n",
        "norm_rt = library['iRT'].dropna().unique()\n",
        "ion_mob = library['IonMobility'].dropna().unique()\n",
        "\n",
        "# Print the number of unique Protein IDs\n",
        "print(\"Total number of rows in the TSV file:\", total_rows)\n",
        "print(\"Number of unique keys:\", number_of_unique_keys)\n",
        "print(\"Number of unique Protein IDs:\", len(unique_ids))\n",
        "print(\"Number of unique Peptide:\", len(unique_peptide))\n",
        "print(\"Number of Modified Peptide:\", len(mod_peptide))\n",
        "print(\"Number of Normalized Retention Time:\", len(norm_rt))\n",
        "print(\"Number of Ion Mobility:\", len(ion_mob))\n",
        "print()\n",
        "print(\"Minimum Normalized Retention Time:\", min(norm_rt))\n",
        "print(\"Maximum Normalized Retention Time:\", max(norm_rt))\n",
        "print()\n",
        "print(\"Minimum Ion Mobility:\", min(ion_mob))\n",
        "print(\"Maximum Ion Mobility:\", max(ion_mob))"
      ],
      "metadata": {
        "colab": {
          "base_uri": "https://localhost:8080/"
        },
        "id": "sUxm7HdPFiFu",
        "outputId": "27994472-b0c6-4e47-9f55-5268efa8d74f"
      },
      "execution_count": null,
      "outputs": [
        {
          "output_type": "stream",
          "name": "stdout",
          "text": [
            "Total number of rows in the TSV file: 2548584\n",
            "Number of unique keys: 2548498\n",
            "Number of unique Protein IDs: 9550\n",
            "Number of unique Peptide: 86659\n",
            "Number of Modified Peptide: 96745\n",
            "Number of Normalized Retention Time: 85815\n",
            "Number of Ion Mobility: 113383\n",
            "\n",
            "Minimum Normalized Retention Time: -57.72689\n",
            "Maximum Normalized Retention Time: 286.48672\n",
            "\n",
            "Minimum Ion Mobility: 0.6631075\n",
            "Maximum Ion Mobility: 1.5782531\n"
          ]
        }
      ]
    },
    {
      "cell_type": "code",
      "source": [
        "\n",
        "\n",
        "# Read the TSV files using pandas with tab as the separator\n",
        "library_1 = pd.read_csv(\"/content/drive/MyDrive/5.Single_Cell_Proteomics/0N4R_Analysis/Library/Tryptic_HEK_Mutant_0N4R_library.tsv\", sep='\\t')\n",
        "library_2 = pd.read_csv(\"/content/drive/MyDrive/5.Single_Cell_Proteomics/0N4R_Analysis/Library/Tryptic_HEK_Mutant_0N4R_library.tsv\", sep='\\t')\n",
        "\n",
        "# Concatenate the two dataframes\n",
        "merged_df = pd.concat([library_1, library_2], ignore_index=True)\n",
        "\n",
        "# Specify the path for the output merged file\n",
        "output_path = '/content/drive/MyDrive/5.Single_Cell_Proteomics/0N4R_Analysis/Library/Merged_library.tsv'\n",
        "merged_df.to_csv(output_path, sep='\\t', index=False)\n",
        "\n",
        "print(\"The files have been successfully merged and saved as a TSV file to:\", output_path)\n"
      ],
      "metadata": {
        "id": "UX6q5FJBOS0r"
      },
      "execution_count": null,
      "outputs": []
    }
  ]
}